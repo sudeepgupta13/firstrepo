{
 "cells": [
  {
   "cell_type": "code",
   "execution_count": 4,
   "id": "ad5a484b",
   "metadata": {},
   "outputs": [
    {
     "name": "stdout",
     "output_type": "stream",
     "text": [
      "Raw Data:\n",
      "          timestamp  sensor_1  sensor_2 status\n",
      "0  2025-09-16 10:00      0.98      33.5     OK\n",
      "1  2025-09-16 10:01      1.02      34.0     OK\n",
      "2  2025-09-16 10:02       NaN      33.9   FAIL\n",
      "3              None      5.60      34.2     OK\n",
      "4  2025-09-16 10:02      1.02      34.0     OK\n",
      "Cleaned Data:\n",
      "            timestamp  sensor_1  sensor_2 status\n",
      "0 2025-09-16 10:00:00  0.980000      33.5     OK\n",
      "1 2025-09-16 10:01:00  1.020000      34.0     OK\n",
      "2 2025-09-16 10:02:00  1.006667      33.9     OK\n",
      "4 2025-09-16 10:02:00  1.020000      34.0     OK\n"
     ]
    },
    {
     "name": "stderr",
     "output_type": "stream",
     "text": [
      "C:\\Users\\sudeep-pc\\AppData\\Local\\Temp\\ipykernel_12276\\1118868274.py:25: FutureWarning: The behavior of Series.replace (and DataFrame.replace) with CategoricalDtype is deprecated. In a future version, replace will only be used for cases that preserve the categories. To change the categories, use ser.cat.rename_categories instead.\n",
      "  df['status'] = df['status'].replace({'FAIL': 'OK'})\n"
     ]
    }
   ],
   "source": [
    "import pandas as pd\n",
    "import numpy as np\n",
    "\n",
    "# Simulated raw robotics sensor data\n",
    "data = {\n",
    "    'timestamp': ['2025-09-16 10:00', '2025-09-16 10:01', '2025-09-16 10:02', None, '2025-09-16 10:02'],\n",
    "    'sensor_1': [0.98, 1.02, np.nan, 5.6, 1.02],   # Note the outlier: 5.6\n",
    "    'sensor_2': [33.5, 34.0, 33.9, 34.2, 34.0],\n",
    "    'status': ['OK', 'OK', 'FAIL', 'OK', 'OK']\n",
    "}\n",
    "\n",
    "df = pd.DataFrame(data)\n",
    "\n",
    "print(\"Raw Data:\")\n",
    "print(df)\n",
    "df = df.drop_duplicates()\n",
    "df['timestamp'] = pd.to_datetime(df['timestamp'])\n",
    "df = df.dropna(subset=['timestamp'])  # Drop rows with missing timestamps\n",
    "df['sensor_1'] = df['sensor_1'].fillna(df['sensor_1'].mean())\n",
    "Q1 = df['sensor_1'].quantile(0.25)\n",
    "Q3 = df['sensor_1'].quantile(0.75)\n",
    "IQR = Q3 - Q1\n",
    "df = df[(df['sensor_1'] >= Q1 - 1.5 * IQR) & (df['sensor_1'] <= Q3 + 1.5 * IQR)]\n",
    "df['status'] = df['status'].astype('category')\n",
    "df['status'] = df['status'].replace({'FAIL': 'OK'})\n",
    "print(\"Cleaned Data:\")\n",
    "print(df)\n",
    "\n",
    "\n"
   ]
  }
 ],
 "metadata": {
  "kernelspec": {
   "display_name": "Python 3",
   "language": "python",
   "name": "python3"
  },
  "language_info": {
   "codemirror_mode": {
    "name": "ipython",
    "version": 3
   },
   "file_extension": ".py",
   "mimetype": "text/x-python",
   "name": "python",
   "nbconvert_exporter": "python",
   "pygments_lexer": "ipython3",
   "version": "3.13.7"
  }
 },
 "nbformat": 4,
 "nbformat_minor": 5
}
