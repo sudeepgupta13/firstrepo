{
 "cells": [
  {
   "cell_type": "code",
   "execution_count": 1,
   "id": "ee546935",
   "metadata": {},
   "outputs": [
    {
     "name": "stdout",
     "output_type": "stream",
     "text": [
      "For SalePrice: Q1, Q3, IQR:\n",
      "  Lower bound = 3937.50\n",
      "  Upper bound = 340037.50\n",
      "  Number of outliers = 61\n",
      "           SalePrice\n",
      "count      61.000000\n",
      "mean   425954.180328\n",
      "std     89557.255611\n",
      "min    341000.000000\n",
      "25%    372500.000000\n",
      "50%    394617.000000\n",
      "75%    440000.000000\n",
      "max    755000.000000\n",
      "---\n",
      "For LotArea: Q1, Q3, IQR:\n",
      "  Lower bound = 1481.50\n",
      "  Upper bound = 17673.50\n",
      "  Number of outliers = 69\n",
      "             LotArea\n",
      "count      69.000000\n",
      "mean    35601.014493\n",
      "std     35475.698864\n",
      "min      1300.000000\n",
      "25%     20544.000000\n",
      "50%     23595.000000\n",
      "75%     35133.000000\n",
      "max    215245.000000\n",
      "---\n",
      "Shape before: (1460, 81) after removing outliers: (1326, 81)\n",
      "Capping done.  Stats after capping:\n",
      "           SalePrice       LotArea\n",
      "count    1460.000000   1460.000000\n",
      "mean   177331.526370   9647.388014\n",
      "std     67205.835915   3594.356399\n",
      "min     34900.000000   1481.500000\n",
      "25%    129975.000000   7553.500000\n",
      "50%    163000.000000   9478.500000\n",
      "75%    214000.000000  11601.500000\n",
      "max    340037.500000  17673.500000\n"
     ]
    }
   ],
   "source": [
    "import pandas as pd\n",
    "import  numpy as np\n",
    "df = pd.read_csv('Handling Outliers.csv')\n",
    "# Focus on the two numeric columns\n",
    "cols = ['SalePrice', 'LotArea']\n",
    "\n",
    "# Function to compute IQR bounds\n",
    "def get_iqr_bounds(series, factor=1.5):\n",
    "    Q1 = series.quantile(0.25)\n",
    "    Q3 = series.quantile(0.75)\n",
    "    IQR = Q3 - Q1\n",
    "    lower = Q1 - factor * IQR\n",
    "    upper = Q3 + factor * IQR\n",
    "    return lower, upper\n",
    "\n",
    "# Detecting & printing out how many outliers for each column\n",
    "for col in cols:\n",
    "    lower, upper = get_iqr_bounds(df[col])\n",
    "    print(f\"For {col}: Q1, Q3, IQR:\")\n",
    "    print(f\"  Lower bound = {lower:.2f}\")\n",
    "    print(f\"  Upper bound = {upper:.2f}\")\n",
    "    outliers = df[(df[col] < lower) | (df[col] > upper)]\n",
    "    print(f\"  Number of outliers = {outliers.shape[0]}\")\n",
    "    # Optionally see some of them\n",
    "    print(outliers[[col]].describe())\n",
    "    print('---')\n",
    "\n",
    "# Handling outliers\n",
    "\n",
    "# Option A: Remove outlier rows entirely\n",
    "df_no_outliers = df.copy()\n",
    "for col in cols:\n",
    "    lower, upper = get_iqr_bounds(df_no_outliers[col])\n",
    "    df_no_outliers = df_no_outliers[(df_no_outliers[col] >= lower) & (df_no_outliers[col] <= upper)]\n",
    "\n",
    "print(\"Shape before:\", df.shape, \"after removing outliers:\", df_no_outliers.shape)\n",
    "\n",
    "# Option B: Cap (clip) the outliers instead of removing\n",
    "df_capped = df.copy()\n",
    "for col in cols:\n",
    "    lower, upper = get_iqr_bounds(df_capped[col])\n",
    "    df_capped[col] = df_capped[col].clip(lower=lower, upper=upper)\n",
    "\n",
    "print(\"Capping done.  Stats after capping:\")\n",
    "print(df_capped[cols].describe())\n"
   ]
  },
  {
   "cell_type": "code",
   "execution_count": 2,
   "id": "04d3c771",
   "metadata": {},
   "outputs": [
    {
     "name": "stdout",
     "output_type": "stream",
     "text": [
      "CSV file created: output3.csv\n"
     ]
    }
   ],
   "source": [
    "df.to_csv('output3.csv', index=False)\n",
    "print(\"CSV file created: output3.csv\")"
   ]
  }
 ],
 "metadata": {
  "kernelspec": {
   "display_name": "Python 3",
   "language": "python",
   "name": "python3"
  },
  "language_info": {
   "codemirror_mode": {
    "name": "ipython",
    "version": 3
   },
   "file_extension": ".py",
   "mimetype": "text/x-python",
   "name": "python",
   "nbconvert_exporter": "python",
   "pygments_lexer": "ipython3",
   "version": "3.13.7"
  }
 },
 "nbformat": 4,
 "nbformat_minor": 5
}
